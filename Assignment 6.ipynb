{
 "cells": [
  {
   "cell_type": "code",
   "execution_count": 1,
   "id": "1cea8619",
   "metadata": {},
   "outputs": [
    {
     "data": {
      "text/plain": [
       "' Ans- Keywords in Python are reserved words that can not be used as a variable name, function name, or any other identifier.'"
      ]
     },
     "execution_count": 1,
     "metadata": {},
     "output_type": "execute_result"
    }
   ],
   "source": [
    "# Q.1. What are keywords in python? Using the keyword library, print all the python keywords.\n",
    "''' Ans- Keywords in Python are reserved words that can not be used as a variable name, function name, or any other identifier.'''"
   ]
  },
  {
   "cell_type": "code",
   "execution_count": 2,
   "id": "7717d0fa",
   "metadata": {},
   "outputs": [
    {
     "name": "stdout",
     "output_type": "stream",
     "text": [
      "Python keywords are...\n",
      "['False', 'None', 'True', 'and', 'as', 'assert', 'async', 'await', 'break', 'class', 'continue', 'def', 'del', 'elif', 'else', 'except', 'finally', 'for', 'from', 'global', 'if', 'import', 'in', 'is', 'lambda', 'nonlocal', 'not', 'or', 'pass', 'raise', 'return', 'try', 'while', 'with', 'yield']\n"
     ]
    }
   ],
   "source": [
    "# importing the module\n",
    "import keyword\n",
    "\n",
    "# printing the keywords\n",
    "print(\"Python keywords are...\")\n",
    "print(keyword.kwlist)"
   ]
  },
  {
   "cell_type": "code",
   "execution_count": 3,
   "id": "c7d302d6",
   "metadata": {},
   "outputs": [
    {
     "data": {
      "text/plain": [
       "' Ans-  A variable can have a short name (like x and y) or a more descriptive name (age, carname, total_volume).\\n\\nRules for Python variables:\\n\\nA variable name must start with a letter or the underscore character\\nA variable name cannot start with a number\\nA variable name can only contain alpha-numeric characters and underscores (A-z, 0-9, and _ )\\nVariable names are case-sensitive (age, Age and AGE are three different variables) '"
      ]
     },
     "execution_count": 3,
     "metadata": {},
     "output_type": "execute_result"
    }
   ],
   "source": [
    " # Q.2. What are the rules to create variables in python?\n",
    " ''' Ans-  A variable can have a short name (like x and y) or a more descriptive name (age, carname, total_volume).\n",
    "\n",
    "Rules for Python variables:\n",
    "\n",
    "A variable name must start with a letter or the underscore character\n",
    "A variable name cannot start with a number\n",
    "A variable name can only contain alpha-numeric characters and underscores (A-z, 0-9, and _ )\n",
    "Variable names are case-sensitive (age, Age and AGE are three different variables) '''"
   ]
  },
  {
   "cell_type": "code",
   "execution_count": null,
   "id": "0d857922",
   "metadata": {},
   "outputs": [],
   "source": [
    " # Q.3. What are the standards and conventions followed for the nomenclature of variables inpython to improve code readability and maintainability?"
   ]
  },
  {
   "cell_type": "code",
   "execution_count": null,
   "id": "d882ed0d",
   "metadata": {},
   "outputs": [],
   "source": [
    "# Ans - Use grammatically correct variable names, the class name should start with an uppercase and must follow camelCase convention If more than two words are to be used"
   ]
  },
  {
   "cell_type": "code",
   "execution_count": 9,
   "id": "5abc679b",
   "metadata": {},
   "outputs": [],
   "source": [
    "# Q.4. What will happen if a keyword is used as a variable name?\n",
    " # Ans- Keywords are the words in programming language which have a special meaning decided the lanuage. So we cannot use them as a variable as we cannot assign any value to them. In python keywords are case sensitive so we can use true as a variable but not TRUE\n"
   ]
  },
  {
   "cell_type": "code",
   "execution_count": 10,
   "id": "1b6d019c",
   "metadata": {},
   "outputs": [
    {
     "data": {
      "text/plain": [
       "125"
      ]
     },
     "execution_count": 10,
     "metadata": {},
     "output_type": "execute_result"
    }
   ],
   "source": [
    "# Q.5. For what purpose def keyword is used?\n",
    "#  Ans- Python def keyword is used to define a function\n",
    "def cube(x):\n",
    "    return x*x*x\n",
    "cube(5)"
   ]
  },
  {
   "cell_type": "code",
   "execution_count": 11,
   "id": "d787354d",
   "metadata": {},
   "outputs": [],
   "source": [
    "# Q.6. What is the operation of this special character ‘\\’?\n",
    "# Ans-Special characters are used in creating passwords. When these characters are used in passwords, the hacking of the accounts becomes tough as passwords become strong as the guessing of these characters is uncertain."
   ]
  },
  {
   "cell_type": "code",
   "execution_count": 12,
   "id": "a73c3c85",
   "metadata": {},
   "outputs": [
    {
     "data": {
      "text/plain": [
       "'Q.7. Give an example of the following conditions:\\n(i) Homogeneous list - The items stored can be of any type numeric, string, boolean, objects, etc \\n(ii) Heterogeneous set -  sets can hold elements of different data types as long as they are hashable\\n(iii) Homogeneous tuple - Tuples usually contain a heterogeneous sequence of elements, while lists usually contain a homogeneous sequence.\\n'"
      ]
     },
     "execution_count": 12,
     "metadata": {},
     "output_type": "execute_result"
    }
   ],
   "source": [
    "'''Q.7. Give an example of the following conditions:\n",
    "(i) Homogeneous list - The items stored can be of any type numeric, string, boolean, objects, etc \n",
    "(ii) Heterogeneous set -  sets can hold elements of different data types as long as they are hashable\n",
    "(iii) Homogeneous tuple - Tuples usually contain a heterogeneous sequence of elements, while lists usually contain a homogeneous sequence.\n",
    "'''\n"
   ]
  },
  {
   "cell_type": "code",
   "execution_count": 13,
   "id": "eff1dc0b",
   "metadata": {},
   "outputs": [
    {
     "data": {
      "text/plain": [
       "'Ans- Mutable objects are those that allow you to change their value or data in place without affecting the object’s identity. In contrast, immutable objects don’t allow this kind of operation. You’ll just have the option of creating new objects of the same type with different values.\\n'"
      ]
     },
     "execution_count": 13,
     "metadata": {},
     "output_type": "execute_result"
    }
   ],
   "source": [
    "# Q.8. Explain the mutable and immutable data types with proper explanation & examples.\n",
    "'''Ans- Mutable objects are those that allow you to change their value or data in place without affecting the object’s identity. In contrast, immutable objects don’t allow this kind of operation. You’ll just have the option of creating new objects of the same type with different values.\n",
    "'''"
   ]
  },
  {
   "cell_type": "code",
   "execution_count": null,
   "id": "d5130726",
   "metadata": {},
   "outputs": [],
   "source": [
    "Python immutable data types:\n",
    "\n",
    "Numbers (Integer, Float, Complex, Decimal, Rational & Booleans)\n",
    "Tuples\n",
    "Strings\n",
    "Frozen Sets\n",
    "Python mutable data types:\n",
    "\n",
    "Lists\n",
    "Dictionaries\n",
    "Sets\n",
    "User-Defined Classes (It depends on the user to define the characteristics of the classes)\n"
   ]
  },
  {
   "cell_type": "code",
   "execution_count": 14,
   "id": "bb34329f",
   "metadata": {},
   "outputs": [
    {
     "data": {
      "text/plain": [
       "'Q.9. Write a code to create the given structure using only for loop.\\n*\\n***\\n*****\\n*******\\n*********\\n'"
      ]
     },
     "execution_count": 14,
     "metadata": {},
     "output_type": "execute_result"
    }
   ],
   "source": [
    "'''Q.9. Write a code to create the given structure using only for loop.\n",
    "*\n",
    "***\n",
    "*****\n",
    "*******\n",
    "*********\n",
    "'''"
   ]
  },
  {
   "cell_type": "code",
   "execution_count": 26,
   "id": "d3775d44",
   "metadata": {},
   "outputs": [
    {
     "name": "stdout",
     "output_type": "stream",
     "text": [
      "*\n",
      "***\n",
      "*****\n",
      "*******\n",
      "*********\n"
     ]
    }
   ],
   "source": [
    "rows = 5\n",
    "\n",
    "for i in range(rows):\n",
    "    for j in range(2*i + 1):\n",
    "        print(\"*\", end=\"\")\n",
    "    print()"
   ]
  },
  {
   "cell_type": "code",
   "execution_count": 27,
   "id": "d2e46781",
   "metadata": {},
   "outputs": [
    {
     "data": {
      "text/plain": [
       "'Q.10. Write a code to create the given structure using while loop.\\n|||||||||\\n|||||||\\n|||||\\n|||\\n|'"
      ]
     },
     "execution_count": 27,
     "metadata": {},
     "output_type": "execute_result"
    }
   ],
   "source": [
    "'''Q.10. Write a code to create the given structure using while loop.\n",
    "|||||||||\n",
    "|||||||\n",
    "|||||\n",
    "|||\n",
    "|'''"
   ]
  },
  {
   "cell_type": "code",
   "execution_count": 25,
   "id": "0ced581a",
   "metadata": {},
   "outputs": [
    {
     "name": "stdout",
     "output_type": "stream",
     "text": [
      "|||||||||\n",
      "|||||||\n",
      "|||||\n",
      "|||\n",
      "|\n"
     ]
    }
   ],
   "source": [
    "row = 9\n",
    "while row >= 1:\n",
    "    col = 1\n",
    "    while col <= row:\n",
    "        print(\"|\", end=\"\")\n",
    "        col += 1\n",
    "    print()\n",
    "    row -= 2"
   ]
  },
  {
   "cell_type": "code",
   "execution_count": null,
   "id": "1039e86b",
   "metadata": {},
   "outputs": [],
   "source": []
  }
 ],
 "metadata": {
  "kernelspec": {
   "display_name": "Python 3 (ipykernel)",
   "language": "python",
   "name": "python3"
  },
  "language_info": {
   "codemirror_mode": {
    "name": "ipython",
    "version": 3
   },
   "file_extension": ".py",
   "mimetype": "text/x-python",
   "name": "python",
   "nbconvert_exporter": "python",
   "pygments_lexer": "ipython3",
   "version": "3.10.11"
  }
 },
 "nbformat": 4,
 "nbformat_minor": 5
}
